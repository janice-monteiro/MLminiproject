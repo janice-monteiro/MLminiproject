{
 "cells": [
  {
   "cell_type": "code",
   "execution_count": 1,
   "metadata": {
    "colab": {
     "base_uri": "https://localhost:8080/",
     "height": 299
    },
    "id": "er30uFlLXBXW",
    "outputId": "3649dac4-007d-4f09-efa2-939ad57cd3d3"
   },
   "outputs": [
    {
     "data": {
      "text/html": [
       "<div>\n",
       "<style scoped>\n",
       "    .dataframe tbody tr th:only-of-type {\n",
       "        vertical-align: middle;\n",
       "    }\n",
       "\n",
       "    .dataframe tbody tr th {\n",
       "        vertical-align: top;\n",
       "    }\n",
       "\n",
       "    .dataframe thead th {\n",
       "        text-align: right;\n",
       "    }\n",
       "</style>\n",
       "<table border=\"1\" class=\"dataframe\">\n",
       "  <thead>\n",
       "    <tr style=\"text-align: right;\">\n",
       "      <th></th>\n",
       "      <th>MinTemp</th>\n",
       "      <th>MaxTemp</th>\n",
       "      <th>Rainfall</th>\n",
       "      <th>Evaporation</th>\n",
       "      <th>Sunshine</th>\n",
       "      <th>WindGustDir</th>\n",
       "      <th>WindGustSpeed</th>\n",
       "      <th>WindDir9am</th>\n",
       "      <th>WindDir3pm</th>\n",
       "      <th>WindSpeed9am</th>\n",
       "      <th>...</th>\n",
       "      <th>Humidity3pm</th>\n",
       "      <th>Pressure9am</th>\n",
       "      <th>Pressure3pm</th>\n",
       "      <th>Cloud9am</th>\n",
       "      <th>Cloud3pm</th>\n",
       "      <th>Temp9am</th>\n",
       "      <th>Temp3pm</th>\n",
       "      <th>RainToday</th>\n",
       "      <th>RISK_MM</th>\n",
       "      <th>RainTomorrow</th>\n",
       "    </tr>\n",
       "  </thead>\n",
       "  <tbody>\n",
       "    <tr>\n",
       "      <th>0</th>\n",
       "      <td>8.0</td>\n",
       "      <td>24.3</td>\n",
       "      <td>0.0</td>\n",
       "      <td>3.4</td>\n",
       "      <td>6.3</td>\n",
       "      <td>NW</td>\n",
       "      <td>30.0</td>\n",
       "      <td>SW</td>\n",
       "      <td>NW</td>\n",
       "      <td>6.0</td>\n",
       "      <td>...</td>\n",
       "      <td>29</td>\n",
       "      <td>1019.7</td>\n",
       "      <td>1015.0</td>\n",
       "      <td>7</td>\n",
       "      <td>7</td>\n",
       "      <td>14.4</td>\n",
       "      <td>23.6</td>\n",
       "      <td>No</td>\n",
       "      <td>3.6</td>\n",
       "      <td>Yes</td>\n",
       "    </tr>\n",
       "    <tr>\n",
       "      <th>1</th>\n",
       "      <td>14.0</td>\n",
       "      <td>26.9</td>\n",
       "      <td>3.6</td>\n",
       "      <td>4.4</td>\n",
       "      <td>9.7</td>\n",
       "      <td>ENE</td>\n",
       "      <td>39.0</td>\n",
       "      <td>E</td>\n",
       "      <td>W</td>\n",
       "      <td>4.0</td>\n",
       "      <td>...</td>\n",
       "      <td>36</td>\n",
       "      <td>1012.4</td>\n",
       "      <td>1008.4</td>\n",
       "      <td>5</td>\n",
       "      <td>3</td>\n",
       "      <td>17.5</td>\n",
       "      <td>25.7</td>\n",
       "      <td>Yes</td>\n",
       "      <td>3.6</td>\n",
       "      <td>Yes</td>\n",
       "    </tr>\n",
       "    <tr>\n",
       "      <th>2</th>\n",
       "      <td>13.7</td>\n",
       "      <td>23.4</td>\n",
       "      <td>3.6</td>\n",
       "      <td>5.8</td>\n",
       "      <td>3.3</td>\n",
       "      <td>NW</td>\n",
       "      <td>85.0</td>\n",
       "      <td>N</td>\n",
       "      <td>NNE</td>\n",
       "      <td>6.0</td>\n",
       "      <td>...</td>\n",
       "      <td>69</td>\n",
       "      <td>1009.5</td>\n",
       "      <td>1007.2</td>\n",
       "      <td>8</td>\n",
       "      <td>7</td>\n",
       "      <td>15.4</td>\n",
       "      <td>20.2</td>\n",
       "      <td>Yes</td>\n",
       "      <td>39.8</td>\n",
       "      <td>Yes</td>\n",
       "    </tr>\n",
       "    <tr>\n",
       "      <th>3</th>\n",
       "      <td>13.3</td>\n",
       "      <td>15.5</td>\n",
       "      <td>39.8</td>\n",
       "      <td>7.2</td>\n",
       "      <td>9.1</td>\n",
       "      <td>NW</td>\n",
       "      <td>54.0</td>\n",
       "      <td>WNW</td>\n",
       "      <td>W</td>\n",
       "      <td>30.0</td>\n",
       "      <td>...</td>\n",
       "      <td>56</td>\n",
       "      <td>1005.5</td>\n",
       "      <td>1007.0</td>\n",
       "      <td>2</td>\n",
       "      <td>7</td>\n",
       "      <td>13.5</td>\n",
       "      <td>14.1</td>\n",
       "      <td>Yes</td>\n",
       "      <td>2.8</td>\n",
       "      <td>Yes</td>\n",
       "    </tr>\n",
       "    <tr>\n",
       "      <th>4</th>\n",
       "      <td>7.6</td>\n",
       "      <td>16.1</td>\n",
       "      <td>2.8</td>\n",
       "      <td>5.6</td>\n",
       "      <td>10.6</td>\n",
       "      <td>SSE</td>\n",
       "      <td>50.0</td>\n",
       "      <td>SSE</td>\n",
       "      <td>ESE</td>\n",
       "      <td>20.0</td>\n",
       "      <td>...</td>\n",
       "      <td>49</td>\n",
       "      <td>1018.3</td>\n",
       "      <td>1018.5</td>\n",
       "      <td>7</td>\n",
       "      <td>7</td>\n",
       "      <td>11.1</td>\n",
       "      <td>15.4</td>\n",
       "      <td>Yes</td>\n",
       "      <td>0.0</td>\n",
       "      <td>No</td>\n",
       "    </tr>\n",
       "  </tbody>\n",
       "</table>\n",
       "<p>5 rows × 22 columns</p>\n",
       "</div>"
      ],
      "text/plain": [
       "   MinTemp  MaxTemp  Rainfall  Evaporation  Sunshine WindGustDir  \\\n",
       "0      8.0     24.3       0.0          3.4       6.3          NW   \n",
       "1     14.0     26.9       3.6          4.4       9.7         ENE   \n",
       "2     13.7     23.4       3.6          5.8       3.3          NW   \n",
       "3     13.3     15.5      39.8          7.2       9.1          NW   \n",
       "4      7.6     16.1       2.8          5.6      10.6         SSE   \n",
       "\n",
       "   WindGustSpeed WindDir9am WindDir3pm  WindSpeed9am  ...  Humidity3pm  \\\n",
       "0           30.0         SW         NW           6.0  ...           29   \n",
       "1           39.0          E          W           4.0  ...           36   \n",
       "2           85.0          N        NNE           6.0  ...           69   \n",
       "3           54.0        WNW          W          30.0  ...           56   \n",
       "4           50.0        SSE        ESE          20.0  ...           49   \n",
       "\n",
       "   Pressure9am  Pressure3pm  Cloud9am  Cloud3pm  Temp9am  Temp3pm  RainToday  \\\n",
       "0       1019.7       1015.0         7         7     14.4     23.6         No   \n",
       "1       1012.4       1008.4         5         3     17.5     25.7        Yes   \n",
       "2       1009.5       1007.2         8         7     15.4     20.2        Yes   \n",
       "3       1005.5       1007.0         2         7     13.5     14.1        Yes   \n",
       "4       1018.3       1018.5         7         7     11.1     15.4        Yes   \n",
       "\n",
       "   RISK_MM RainTomorrow  \n",
       "0      3.6          Yes  \n",
       "1      3.6          Yes  \n",
       "2     39.8          Yes  \n",
       "3      2.8          Yes  \n",
       "4      0.0           No  \n",
       "\n",
       "[5 rows x 22 columns]"
      ]
     },
     "execution_count": 1,
     "metadata": {},
     "output_type": "execute_result"
    }
   ],
   "source": [
    "import numpy as np\n",
    "import pandas as pd\n",
    "import matplotlib.pyplot as plt\n",
    "import seaborn as sns\n",
    "import math\n",
    "\n",
    "df=pd.read_csv(\"weather.csv\")\n",
    "df.head(5)"
   ]
  },
  {
   "cell_type": "code",
   "execution_count": 2,
   "metadata": {},
   "outputs": [],
   "source": [
    "df = df.fillna(0)"
   ]
  },
  {
   "cell_type": "code",
   "execution_count": 3,
   "metadata": {
    "colab": {
     "base_uri": "https://localhost:8080/",
     "height": 206
    },
    "id": "mnpas96UX1Qj",
    "outputId": "64f97f32-7418-4346-a4ca-9416dc26e065"
   },
   "outputs": [],
   "source": [
    "df['RainTomorrow'] = df['RainTomorrow'].replace({'Yes': 1, 'No': 0})\n",
    "df['RainToday'] = df['RainToday'].replace({'Yes': 1, 'No': 0})\n",
    "#df.drop(['WindGustDir','WindDir9am','WindDir3pm','Sunshine','Evaporation','WindGustSpeed','WindSpeed9am'], axis = 1,inplace=True)\n"
   ]
  },
  {
   "cell_type": "code",
   "execution_count": 4,
   "metadata": {},
   "outputs": [],
   "source": [
    "df.drop(['WindGustDir','WindDir9am','WindDir3pm','Sunshine','Evaporation','WindGustSpeed','WindSpeed9am'], axis = 1,inplace=True)"
   ]
  },
  {
   "cell_type": "code",
   "execution_count": 5,
   "metadata": {},
   "outputs": [
    {
     "data": {
      "text/html": [
       "<div>\n",
       "<style scoped>\n",
       "    .dataframe tbody tr th:only-of-type {\n",
       "        vertical-align: middle;\n",
       "    }\n",
       "\n",
       "    .dataframe tbody tr th {\n",
       "        vertical-align: top;\n",
       "    }\n",
       "\n",
       "    .dataframe thead th {\n",
       "        text-align: right;\n",
       "    }\n",
       "</style>\n",
       "<table border=\"1\" class=\"dataframe\">\n",
       "  <thead>\n",
       "    <tr style=\"text-align: right;\">\n",
       "      <th></th>\n",
       "      <th>MinTemp</th>\n",
       "      <th>MaxTemp</th>\n",
       "      <th>Rainfall</th>\n",
       "      <th>WindSpeed3pm</th>\n",
       "      <th>Humidity9am</th>\n",
       "      <th>Humidity3pm</th>\n",
       "      <th>Pressure9am</th>\n",
       "      <th>Pressure3pm</th>\n",
       "      <th>Cloud9am</th>\n",
       "      <th>Cloud3pm</th>\n",
       "      <th>Temp9am</th>\n",
       "      <th>Temp3pm</th>\n",
       "      <th>RainToday</th>\n",
       "      <th>RISK_MM</th>\n",
       "      <th>RainTomorrow</th>\n",
       "    </tr>\n",
       "  </thead>\n",
       "  <tbody>\n",
       "    <tr>\n",
       "      <th>0</th>\n",
       "      <td>8</td>\n",
       "      <td>24</td>\n",
       "      <td>0</td>\n",
       "      <td>20</td>\n",
       "      <td>68</td>\n",
       "      <td>29</td>\n",
       "      <td>1019</td>\n",
       "      <td>1015</td>\n",
       "      <td>7</td>\n",
       "      <td>7</td>\n",
       "      <td>14</td>\n",
       "      <td>23</td>\n",
       "      <td>0</td>\n",
       "      <td>3</td>\n",
       "      <td>1</td>\n",
       "    </tr>\n",
       "    <tr>\n",
       "      <th>1</th>\n",
       "      <td>14</td>\n",
       "      <td>26</td>\n",
       "      <td>3</td>\n",
       "      <td>17</td>\n",
       "      <td>80</td>\n",
       "      <td>36</td>\n",
       "      <td>1012</td>\n",
       "      <td>1008</td>\n",
       "      <td>5</td>\n",
       "      <td>3</td>\n",
       "      <td>17</td>\n",
       "      <td>25</td>\n",
       "      <td>1</td>\n",
       "      <td>3</td>\n",
       "      <td>1</td>\n",
       "    </tr>\n",
       "    <tr>\n",
       "      <th>2</th>\n",
       "      <td>13</td>\n",
       "      <td>23</td>\n",
       "      <td>3</td>\n",
       "      <td>6</td>\n",
       "      <td>82</td>\n",
       "      <td>69</td>\n",
       "      <td>1009</td>\n",
       "      <td>1007</td>\n",
       "      <td>8</td>\n",
       "      <td>7</td>\n",
       "      <td>15</td>\n",
       "      <td>20</td>\n",
       "      <td>1</td>\n",
       "      <td>39</td>\n",
       "      <td>1</td>\n",
       "    </tr>\n",
       "    <tr>\n",
       "      <th>3</th>\n",
       "      <td>13</td>\n",
       "      <td>15</td>\n",
       "      <td>39</td>\n",
       "      <td>24</td>\n",
       "      <td>62</td>\n",
       "      <td>56</td>\n",
       "      <td>1005</td>\n",
       "      <td>1007</td>\n",
       "      <td>2</td>\n",
       "      <td>7</td>\n",
       "      <td>13</td>\n",
       "      <td>14</td>\n",
       "      <td>1</td>\n",
       "      <td>2</td>\n",
       "      <td>1</td>\n",
       "    </tr>\n",
       "    <tr>\n",
       "      <th>4</th>\n",
       "      <td>7</td>\n",
       "      <td>16</td>\n",
       "      <td>2</td>\n",
       "      <td>28</td>\n",
       "      <td>68</td>\n",
       "      <td>49</td>\n",
       "      <td>1018</td>\n",
       "      <td>1018</td>\n",
       "      <td>7</td>\n",
       "      <td>7</td>\n",
       "      <td>11</td>\n",
       "      <td>15</td>\n",
       "      <td>1</td>\n",
       "      <td>0</td>\n",
       "      <td>0</td>\n",
       "    </tr>\n",
       "  </tbody>\n",
       "</table>\n",
       "</div>"
      ],
      "text/plain": [
       "   MinTemp  MaxTemp  Rainfall  WindSpeed3pm  Humidity9am  Humidity3pm  \\\n",
       "0        8       24         0            20           68           29   \n",
       "1       14       26         3            17           80           36   \n",
       "2       13       23         3             6           82           69   \n",
       "3       13       15        39            24           62           56   \n",
       "4        7       16         2            28           68           49   \n",
       "\n",
       "   Pressure9am  Pressure3pm  Cloud9am  Cloud3pm  Temp9am  Temp3pm  RainToday  \\\n",
       "0         1019         1015         7         7       14       23          0   \n",
       "1         1012         1008         5         3       17       25          1   \n",
       "2         1009         1007         8         7       15       20          1   \n",
       "3         1005         1007         2         7       13       14          1   \n",
       "4         1018         1018         7         7       11       15          1   \n",
       "\n",
       "   RISK_MM  RainTomorrow  \n",
       "0        3             1  \n",
       "1        3             1  \n",
       "2       39             1  \n",
       "3        2             1  \n",
       "4        0             0  "
      ]
     },
     "execution_count": 5,
     "metadata": {},
     "output_type": "execute_result"
    }
   ],
   "source": [
    "df[\"MinTemp\"] =df['MinTemp'].astype('int')\n",
    "df[\"MaxTemp\"] =df['MaxTemp'].astype('int')\n",
    "df[\"Rainfall\"] =df['Rainfall'].astype('int')\n",
    "df[\"Pressure9am\"] =df['Pressure9am'].astype('int')\n",
    "df[\"Pressure3pm\"] =df['Pressure3pm'].astype('int')\n",
    "df[\"Temp9am\"] =df['Temp9am'].astype('int')\n",
    "df[\"Temp3pm\"] =df['Temp3pm'].astype('int')\n",
    "df[\"RISK_MM\"] =df['RISK_MM'].astype('int')\n",
    "df.head(5)"
   ]
  },
  {
   "cell_type": "code",
   "execution_count": 6,
   "metadata": {
    "colab": {
     "base_uri": "https://localhost:8080/",
     "height": 297
    },
    "id": "1UGwNGdpX-NK",
    "outputId": "f2dc9efd-ab5d-412a-f01c-e25e7e9511dc"
   },
   "outputs": [
    {
     "data": {
      "text/plain": [
       "<AxesSubplot:xlabel='RainTomorrow', ylabel='count'>"
      ]
     },
     "execution_count": 6,
     "metadata": {},
     "output_type": "execute_result"
    },
    {
     "data": {
      "image/png": "[encoded data removed]",
      "text/plain": [
       "<Figure size 432x288 with 1 Axes>"
      ]
     },
     "metadata": {
      "needs_background": "light"
     },
     "output_type": "display_data"
    }
   ],
   "source": [
    "sns.countplot(x='RainTomorrow',data=df)"
   ]
  },
  {
   "cell_type": "code",
   "execution_count": 7,
   "metadata": {
    "colab": {
     "base_uri": "https://localhost:8080/"
    },
    "id": "4Cs9eViMYDJJ",
    "outputId": "d6120142-d2f7-4e36-c3c6-3b6041877640"
   },
   "outputs": [
    {
     "name": "stdout",
     "output_type": "stream",
     "text": [
      "<class 'pandas.core.frame.DataFrame'>\n",
      "RangeIndex: 366 entries, 0 to 365\n",
      "Data columns (total 15 columns):\n",
      " #   Column        Non-Null Count  Dtype\n",
      "---  ------        --------------  -----\n",
      " 0   MinTemp       366 non-null    int32\n",
      " 1   MaxTemp       366 non-null    int32\n",
      " 2   Rainfall      366 non-null    int32\n",
      " 3   WindSpeed3pm  366 non-null    int64\n",
      " 4   Humidity9am   366 non-null    int64\n",
      " 5   Humidity3pm   366 non-null    int64\n",
      " 6   Pressure9am   366 non-null    int32\n",
      " 7   Pressure3pm   366 non-null    int32\n",
      " 8   Cloud9am      366 non-null    int64\n",
      " 9   Cloud3pm      366 non-null    int64\n",
      " 10  Temp9am       366 non-null    int32\n",
      " 11  Temp3pm       366 non-null    int32\n",
      " 12  RainToday     366 non-null    int64\n",
      " 13  RISK_MM       366 non-null    int32\n",
      " 14  RainTomorrow  366 non-null    int64\n",
      "dtypes: int32(8), int64(7)\n",
      "memory usage: 31.6 KB\n"
     ]
    }
   ],
   "source": [
    "df.info()\n"
   ]
  },
  {
   "cell_type": "code",
   "execution_count": 8,
   "metadata": {},
   "outputs": [
    {
     "name": "stdout",
     "output_type": "stream",
     "text": [
      "               MinTemp   MaxTemp  Rainfall  WindSpeed3pm  Humidity9am  \\\n",
      "MinTemp       1.000000  0.752363  0.195957     -0.064376    -0.202972   \n",
      "MaxTemp       0.752363  1.000000 -0.067004     -0.167210    -0.358741   \n",
      "Rainfall      0.195957 -0.067004  1.000000      0.053079     0.141696   \n",
      "WindSpeed3pm -0.064376 -0.167210  0.053079      1.000000    -0.266092   \n",
      "Humidity9am  -0.202972 -0.358741  0.141696     -0.266092     1.000000   \n",
      "Humidity3pm  -0.042163 -0.533594  0.277103     -0.026368     0.546718   \n",
      "Pressure9am  -0.504027 -0.290131 -0.327437     -0.358892     0.135920   \n",
      "Pressure3pm  -0.498595 -0.375290 -0.244113     -0.337971     0.134628   \n",
      "Cloud9am      0.213434 -0.174337  0.171247     -0.026426     0.392842   \n",
      "Cloud3pm      0.120101 -0.136786  0.120228      0.007207     0.271938   \n",
      "Temp9am       0.914748  0.868333  0.081699     -0.020993    -0.434033   \n",
      "Temp3pm       0.725199  0.986773 -0.082947     -0.187757    -0.358317   \n",
      "RainToday     0.227705 -0.064469  0.678244      0.083483     0.203495   \n",
      "RISK_MM       0.216073  0.032079  0.073822     -0.010411     0.160715   \n",
      "RainTomorrow  0.237471  0.048500  0.126167      0.042505     0.185077   \n",
      "\n",
      "              Humidity3pm  Pressure9am  Pressure3pm  Cloud9am  Cloud3pm  \\\n",
      "MinTemp         -0.042163    -0.504027    -0.498595  0.213434  0.120101   \n",
      "MaxTemp         -0.533594    -0.290131    -0.375290 -0.174337 -0.136786   \n",
      "Rainfall         0.277103    -0.327437    -0.244113  0.171247  0.120228   \n",
      "WindSpeed3pm    -0.026368    -0.358892    -0.337971 -0.026426  0.007207   \n",
      "Humidity9am      0.546718     0.135920     0.134628  0.392842  0.271938   \n",
      "Humidity3pm      1.000000    -0.084924    -0.007362  0.551633  0.510108   \n",
      "Pressure9am     -0.084924     1.000000     0.964385 -0.156328 -0.136217   \n",
      "Pressure3pm     -0.007362     0.964385     1.000000 -0.131432 -0.142472   \n",
      "Cloud9am         0.551633    -0.156328    -0.131432  1.000000  0.525218   \n",
      "Cloud3pm         0.510108    -0.136217    -0.142472  0.525218  1.000000   \n",
      "Temp9am         -0.256154    -0.458680    -0.488050  0.022995  0.042829   \n",
      "Temp3pm         -0.581978    -0.253864    -0.342069 -0.204978 -0.175423   \n",
      "RainToday        0.319582    -0.352867    -0.277818  0.214767  0.094423   \n",
      "RISK_MM          0.348630    -0.283584    -0.306508  0.266812  0.315893   \n",
      "RainTomorrow     0.366882    -0.328439    -0.370196  0.284579  0.388020   \n",
      "\n",
      "               Temp9am   Temp3pm  RainToday   RISK_MM  RainTomorrow  \n",
      "MinTemp       0.914748  0.725199   0.227705  0.216073      0.237471  \n",
      "MaxTemp       0.868333  0.986773  -0.064469  0.032079      0.048500  \n",
      "Rainfall      0.081699 -0.082947   0.678244  0.073822      0.126167  \n",
      "WindSpeed3pm -0.020993 -0.187757   0.083483 -0.010411      0.042505  \n",
      "Humidity9am  -0.434033 -0.358317   0.203495  0.160715      0.185077  \n",
      "Humidity3pm  -0.256154 -0.581978   0.319582  0.348630      0.366882  \n",
      "Pressure9am  -0.458680 -0.253864  -0.352867 -0.283584     -0.328439  \n",
      "Pressure3pm  -0.488050 -0.342069  -0.277818 -0.306508     -0.370196  \n",
      "Cloud9am      0.022995 -0.204978   0.214767  0.266812      0.284579  \n",
      "Cloud3pm      0.042829 -0.175423   0.094423  0.315893      0.388020  \n",
      "Temp9am       1.000000  0.844670   0.090718  0.162908      0.184148  \n",
      "Temp3pm       0.844670  1.000000  -0.074404  0.000057      0.013289  \n",
      "RainToday     0.090718 -0.074404   1.000000  0.146935      0.168182  \n",
      "RISK_MM       0.162908  0.000057   0.146935  1.000000      0.678244  \n",
      "RainTomorrow  0.184148  0.013289   0.168182  0.678244      1.000000  \n"
     ]
    }
   ],
   "source": [
    "print(df.corr())"
   ]
  },
  {
   "cell_type": "code",
   "execution_count": 9,
   "metadata": {
    "colab": {
     "base_uri": "https://localhost:8080/"
    },
    "id": "ZUZx728HYHUQ",
    "outputId": "b5d1c576-e2e3-4adc-8ec6-74139afda0c7"
   },
   "outputs": [
    {
     "data": {
      "text/plain": [
       "MinTemp         0\n",
       "MaxTemp         0\n",
       "Rainfall        0\n",
       "WindSpeed3pm    0\n",
       "Humidity9am     0\n",
       "Humidity3pm     0\n",
       "Pressure9am     0\n",
       "Pressure3pm     0\n",
       "Cloud9am        0\n",
       "Cloud3pm        0\n",
       "Temp9am         0\n",
       "Temp3pm         0\n",
       "RainToday       0\n",
       "RISK_MM         0\n",
       "RainTomorrow    0\n",
       "dtype: int64"
      ]
     },
     "execution_count": 9,
     "metadata": {},
     "output_type": "execute_result"
    }
   ],
   "source": [
    "df.isnull().sum()\n"
   ]
  },
  {
   "cell_type": "code",
   "execution_count": 10,
   "metadata": {
    "colab": {
     "base_uri": "https://localhost:8080/",
     "height": 206
    },
    "id": "OXdkuxM2YK-x",
    "outputId": "619ddac0-012a-4e12-a17d-63fb2187b0dc"
   },
   "outputs": [
    {
     "data": {
      "text/html": [
       "<div>\n",
       "<style scoped>\n",
       "    .dataframe tbody tr th:only-of-type {\n",
       "        vertical-align: middle;\n",
       "    }\n",
       "\n",
       "    .dataframe tbody tr th {\n",
       "        vertical-align: top;\n",
       "    }\n",
       "\n",
       "    .dataframe thead th {\n",
       "        text-align: right;\n",
       "    }\n",
       "</style>\n",
       "<table border=\"1\" class=\"dataframe\">\n",
       "  <thead>\n",
       "    <tr style=\"text-align: right;\">\n",
       "      <th></th>\n",
       "      <th>MinTemp</th>\n",
       "      <th>MaxTemp</th>\n",
       "      <th>Rainfall</th>\n",
       "      <th>WindSpeed3pm</th>\n",
       "      <th>Humidity9am</th>\n",
       "      <th>Humidity3pm</th>\n",
       "      <th>Pressure9am</th>\n",
       "      <th>Pressure3pm</th>\n",
       "      <th>Cloud9am</th>\n",
       "      <th>Cloud3pm</th>\n",
       "      <th>Temp9am</th>\n",
       "      <th>Temp3pm</th>\n",
       "      <th>RainToday</th>\n",
       "      <th>RISK_MM</th>\n",
       "      <th>RainTomorrow</th>\n",
       "    </tr>\n",
       "  </thead>\n",
       "  <tbody>\n",
       "    <tr>\n",
       "      <th>0</th>\n",
       "      <td>8</td>\n",
       "      <td>24</td>\n",
       "      <td>0</td>\n",
       "      <td>20</td>\n",
       "      <td>68</td>\n",
       "      <td>29</td>\n",
       "      <td>1019</td>\n",
       "      <td>1015</td>\n",
       "      <td>7</td>\n",
       "      <td>7</td>\n",
       "      <td>14</td>\n",
       "      <td>23</td>\n",
       "      <td>0</td>\n",
       "      <td>3</td>\n",
       "      <td>1</td>\n",
       "    </tr>\n",
       "    <tr>\n",
       "      <th>1</th>\n",
       "      <td>14</td>\n",
       "      <td>26</td>\n",
       "      <td>3</td>\n",
       "      <td>17</td>\n",
       "      <td>80</td>\n",
       "      <td>36</td>\n",
       "      <td>1012</td>\n",
       "      <td>1008</td>\n",
       "      <td>5</td>\n",
       "      <td>3</td>\n",
       "      <td>17</td>\n",
       "      <td>25</td>\n",
       "      <td>1</td>\n",
       "      <td>3</td>\n",
       "      <td>1</td>\n",
       "    </tr>\n",
       "    <tr>\n",
       "      <th>2</th>\n",
       "      <td>13</td>\n",
       "      <td>23</td>\n",
       "      <td>3</td>\n",
       "      <td>6</td>\n",
       "      <td>82</td>\n",
       "      <td>69</td>\n",
       "      <td>1009</td>\n",
       "      <td>1007</td>\n",
       "      <td>8</td>\n",
       "      <td>7</td>\n",
       "      <td>15</td>\n",
       "      <td>20</td>\n",
       "      <td>1</td>\n",
       "      <td>39</td>\n",
       "      <td>1</td>\n",
       "    </tr>\n",
       "    <tr>\n",
       "      <th>3</th>\n",
       "      <td>13</td>\n",
       "      <td>15</td>\n",
       "      <td>39</td>\n",
       "      <td>24</td>\n",
       "      <td>62</td>\n",
       "      <td>56</td>\n",
       "      <td>1005</td>\n",
       "      <td>1007</td>\n",
       "      <td>2</td>\n",
       "      <td>7</td>\n",
       "      <td>13</td>\n",
       "      <td>14</td>\n",
       "      <td>1</td>\n",
       "      <td>2</td>\n",
       "      <td>1</td>\n",
       "    </tr>\n",
       "    <tr>\n",
       "      <th>4</th>\n",
       "      <td>7</td>\n",
       "      <td>16</td>\n",
       "      <td>2</td>\n",
       "      <td>28</td>\n",
       "      <td>68</td>\n",
       "      <td>49</td>\n",
       "      <td>1018</td>\n",
       "      <td>1018</td>\n",
       "      <td>7</td>\n",
       "      <td>7</td>\n",
       "      <td>11</td>\n",
       "      <td>15</td>\n",
       "      <td>1</td>\n",
       "      <td>0</td>\n",
       "      <td>0</td>\n",
       "    </tr>\n",
       "  </tbody>\n",
       "</table>\n",
       "</div>"
      ],
      "text/plain": [
       "   MinTemp  MaxTemp  Rainfall  WindSpeed3pm  Humidity9am  Humidity3pm  \\\n",
       "0        8       24         0            20           68           29   \n",
       "1       14       26         3            17           80           36   \n",
       "2       13       23         3             6           82           69   \n",
       "3       13       15        39            24           62           56   \n",
       "4        7       16         2            28           68           49   \n",
       "\n",
       "   Pressure9am  Pressure3pm  Cloud9am  Cloud3pm  Temp9am  Temp3pm  RainToday  \\\n",
       "0         1019         1015         7         7       14       23          0   \n",
       "1         1012         1008         5         3       17       25          1   \n",
       "2         1009         1007         8         7       15       20          1   \n",
       "3         1005         1007         2         7       13       14          1   \n",
       "4         1018         1018         7         7       11       15          1   \n",
       "\n",
       "   RISK_MM  RainTomorrow  \n",
       "0        3             1  \n",
       "1        3             1  \n",
       "2       39             1  \n",
       "3        2             1  \n",
       "4        0             0  "
      ]
     },
     "execution_count": 10,
     "metadata": {},
     "output_type": "execute_result"
    }
   ],
   "source": [
    "X=df.drop(\"RainTomorrow\",axis=1)\n",
    "y=df[\"RainTomorrow\"]\n",
    "df.head(5)"
   ]
  },
  {
   "cell_type": "code",
   "execution_count": null,
   "metadata": {
    "id": "tNujnhJNYOHg"
   },
   "outputs": [],
   "source": []
  },
  {
   "cell_type": "code",
   "execution_count": 11,
   "metadata": {
    "id": "-ZWNcTyVYOdA"
   },
   "outputs": [],
   "source": [
    "from sklearn.model_selection import train_test_split\n"
   ]
  },
  {
   "cell_type": "code",
   "execution_count": 12,
   "metadata": {
    "id": "3cUu_Ld0YSVw"
   },
   "outputs": [],
   "source": [
    "X_train,X_test,y_train,y_test=train_test_split(X,y,test_size=0.7,random_state=1)\n"
   ]
  },
  {
   "cell_type": "code",
   "execution_count": 13,
   "metadata": {
    "id": "_i0phX7tYVrp"
   },
   "outputs": [],
   "source": [
    "from sklearn.linear_model import LogisticRegression\n"
   ]
  },
  {
   "cell_type": "code",
   "execution_count": 14,
   "metadata": {
    "id": "L6s39YFZYY3Q"
   },
   "outputs": [],
   "source": [
    "log=LogisticRegression()\n"
   ]
  },
  {
   "cell_type": "code",
   "execution_count": 15,
   "metadata": {
    "colab": {
     "base_uri": "https://localhost:8080/"
    },
    "id": "wNon9T1SYcLx",
    "outputId": "fce31eb3-a438-4008-fd25-41c5fa184771"
   },
   "outputs": [
    {
     "name": "stderr",
     "output_type": "stream",
     "text": [
      "C:\\Users\\26jan\\anaconda3\\lib\\site-packages\\sklearn\\linear_model\\_logistic.py:763: ConvergenceWarning: lbfgs failed to converge (status=1):\n",
      "STOP: TOTAL NO. of ITERATIONS REACHED LIMIT.\n",
      "\n",
      "Increase the number of iterations (max_iter) or scale the data as shown in:\n",
      "    https://scikit-learn.org/stable/modules/preprocessing.html\n",
      "Please also refer to the documentation for alternative solver options:\n",
      "    https://scikit-learn.org/stable/modules/linear_model.html#logistic-regression\n",
      "  n_iter_i = _check_optimize_result(\n"
     ]
    }
   ],
   "source": [
    "logmodel=log.fit(X_train,y_train)\n"
   ]
  },
  {
   "cell_type": "code",
   "execution_count": 16,
   "metadata": {
    "colab": {
     "base_uri": "https://localhost:8080/",
     "height": 206
    },
    "id": "BiNNZseGYzO5",
    "outputId": "c5227420-15c3-4826-bf06-84602a2757d2"
   },
   "outputs": [
    {
     "data": {
      "text/html": [
       "<div>\n",
       "<style scoped>\n",
       "    .dataframe tbody tr th:only-of-type {\n",
       "        vertical-align: middle;\n",
       "    }\n",
       "\n",
       "    .dataframe tbody tr th {\n",
       "        vertical-align: top;\n",
       "    }\n",
       "\n",
       "    .dataframe thead th {\n",
       "        text-align: right;\n",
       "    }\n",
       "</style>\n",
       "<table border=\"1\" class=\"dataframe\">\n",
       "  <thead>\n",
       "    <tr style=\"text-align: right;\">\n",
       "      <th></th>\n",
       "      <th>MinTemp</th>\n",
       "      <th>MaxTemp</th>\n",
       "      <th>Rainfall</th>\n",
       "      <th>WindSpeed3pm</th>\n",
       "      <th>Humidity9am</th>\n",
       "      <th>Humidity3pm</th>\n",
       "      <th>Pressure9am</th>\n",
       "      <th>Pressure3pm</th>\n",
       "      <th>Cloud9am</th>\n",
       "      <th>Cloud3pm</th>\n",
       "      <th>Temp9am</th>\n",
       "      <th>Temp3pm</th>\n",
       "      <th>RainToday</th>\n",
       "      <th>RISK_MM</th>\n",
       "      <th>RainTomorrow</th>\n",
       "    </tr>\n",
       "  </thead>\n",
       "  <tbody>\n",
       "    <tr>\n",
       "      <th>0</th>\n",
       "      <td>8</td>\n",
       "      <td>24</td>\n",
       "      <td>0</td>\n",
       "      <td>20</td>\n",
       "      <td>68</td>\n",
       "      <td>29</td>\n",
       "      <td>1019</td>\n",
       "      <td>1015</td>\n",
       "      <td>7</td>\n",
       "      <td>7</td>\n",
       "      <td>14</td>\n",
       "      <td>23</td>\n",
       "      <td>0</td>\n",
       "      <td>3</td>\n",
       "      <td>1</td>\n",
       "    </tr>\n",
       "    <tr>\n",
       "      <th>1</th>\n",
       "      <td>14</td>\n",
       "      <td>26</td>\n",
       "      <td>3</td>\n",
       "      <td>17</td>\n",
       "      <td>80</td>\n",
       "      <td>36</td>\n",
       "      <td>1012</td>\n",
       "      <td>1008</td>\n",
       "      <td>5</td>\n",
       "      <td>3</td>\n",
       "      <td>17</td>\n",
       "      <td>25</td>\n",
       "      <td>1</td>\n",
       "      <td>3</td>\n",
       "      <td>1</td>\n",
       "    </tr>\n",
       "    <tr>\n",
       "      <th>2</th>\n",
       "      <td>13</td>\n",
       "      <td>23</td>\n",
       "      <td>3</td>\n",
       "      <td>6</td>\n",
       "      <td>82</td>\n",
       "      <td>69</td>\n",
       "      <td>1009</td>\n",
       "      <td>1007</td>\n",
       "      <td>8</td>\n",
       "      <td>7</td>\n",
       "      <td>15</td>\n",
       "      <td>20</td>\n",
       "      <td>1</td>\n",
       "      <td>39</td>\n",
       "      <td>1</td>\n",
       "    </tr>\n",
       "    <tr>\n",
       "      <th>3</th>\n",
       "      <td>13</td>\n",
       "      <td>15</td>\n",
       "      <td>39</td>\n",
       "      <td>24</td>\n",
       "      <td>62</td>\n",
       "      <td>56</td>\n",
       "      <td>1005</td>\n",
       "      <td>1007</td>\n",
       "      <td>2</td>\n",
       "      <td>7</td>\n",
       "      <td>13</td>\n",
       "      <td>14</td>\n",
       "      <td>1</td>\n",
       "      <td>2</td>\n",
       "      <td>1</td>\n",
       "    </tr>\n",
       "    <tr>\n",
       "      <th>4</th>\n",
       "      <td>7</td>\n",
       "      <td>16</td>\n",
       "      <td>2</td>\n",
       "      <td>28</td>\n",
       "      <td>68</td>\n",
       "      <td>49</td>\n",
       "      <td>1018</td>\n",
       "      <td>1018</td>\n",
       "      <td>7</td>\n",
       "      <td>7</td>\n",
       "      <td>11</td>\n",
       "      <td>15</td>\n",
       "      <td>1</td>\n",
       "      <td>0</td>\n",
       "      <td>0</td>\n",
       "    </tr>\n",
       "  </tbody>\n",
       "</table>\n",
       "</div>"
      ],
      "text/plain": [
       "   MinTemp  MaxTemp  Rainfall  WindSpeed3pm  Humidity9am  Humidity3pm  \\\n",
       "0        8       24         0            20           68           29   \n",
       "1       14       26         3            17           80           36   \n",
       "2       13       23         3             6           82           69   \n",
       "3       13       15        39            24           62           56   \n",
       "4        7       16         2            28           68           49   \n",
       "\n",
       "   Pressure9am  Pressure3pm  Cloud9am  Cloud3pm  Temp9am  Temp3pm  RainToday  \\\n",
       "0         1019         1015         7         7       14       23          0   \n",
       "1         1012         1008         5         3       17       25          1   \n",
       "2         1009         1007         8         7       15       20          1   \n",
       "3         1005         1007         2         7       13       14          1   \n",
       "4         1018         1018         7         7       11       15          1   \n",
       "\n",
       "   RISK_MM  RainTomorrow  \n",
       "0        3             1  \n",
       "1        3             1  \n",
       "2       39             1  \n",
       "3        2             1  \n",
       "4        0             0  "
      ]
     },
     "execution_count": 16,
     "metadata": {},
     "output_type": "execute_result"
    }
   ],
   "source": [
    "df.head(5)\n"
   ]
  },
  {
   "cell_type": "code",
   "execution_count": 17,
   "metadata": {
    "id": "Lyjak6-SY27B"
   },
   "outputs": [],
   "source": [
    "from sklearn.metrics import accuracy_score\n"
   ]
  },
  {
   "cell_type": "code",
   "execution_count": 18,
   "metadata": {
    "id": "xdTFiGxyY5cx"
   },
   "outputs": [],
   "source": [
    "pred=log.predict(X_test)\n"
   ]
  },
  {
   "cell_type": "code",
   "execution_count": 19,
   "metadata": {
    "colab": {
     "base_uri": "https://localhost:8080/"
    },
    "id": "VCwAJEJnY7wI",
    "outputId": "84fd1bfa-f219-4ff1-cda8-0a1f569c2d83"
   },
   "outputs": [
    {
     "data": {
      "text/plain": [
       "0.9766536964980544"
      ]
     },
     "execution_count": 19,
     "metadata": {},
     "output_type": "execute_result"
    }
   ],
   "source": [
    "accuracy_score(y_test,pred)\n"
   ]
  },
  {
   "cell_type": "code",
   "execution_count": 20,
   "metadata": {
    "colab": {
     "base_uri": "https://localhost:8080/",
     "height": 55
    },
    "id": "T7PJMBCxY_so",
    "outputId": "c7d5b1b8-4ec5-4d5a-8995-62765524f8a5"
   },
   "outputs": [
    {
     "data": {
      "text/plain": [
       "'              precision    recall  f1-score   support\\n\\n           0       0.98      1.00      0.99       212\\n           1       0.98      0.89      0.93        45\\n\\n    accuracy                           0.98       257\\n   macro avg       0.98      0.94      0.96       257\\nweighted avg       0.98      0.98      0.98       257\\n'"
      ]
     },
     "execution_count": 20,
     "metadata": {},
     "output_type": "execute_result"
    }
   ],
   "source": [
    "from sklearn.metrics import *\n",
    "classification_report(y_test,pred)"
   ]
  },
  {
   "cell_type": "code",
   "execution_count": 21,
   "metadata": {
    "colab": {
     "base_uri": "https://localhost:8080/"
    },
    "id": "JfNAZvb4ZHLx",
    "outputId": "de7f1b1e-2e17-43f1-ae9f-b9a518c4d116"
   },
   "outputs": [
    {
     "data": {
      "text/plain": [
       "array([[211,   1],\n",
       "       [  5,  40]], dtype=int64)"
      ]
     },
     "execution_count": 21,
     "metadata": {},
     "output_type": "execute_result"
    }
   ],
   "source": [
    "confusion_matrix(y_test,pred)\n"
   ]
  },
  {
   "cell_type": "code",
   "execution_count": 22,
   "metadata": {
    "colab": {
     "base_uri": "https://localhost:8080/",
     "height": 279
    },
    "id": "TS50mMWrZbvx",
    "outputId": "bfe9587a-add2-4499-9fe4-5afff7f5f17f"
   },
   "outputs": [
    {
     "data": {
      "image/png": "[encoded data removed]",
      "text/plain": [
       "<Figure size 432x288 with 2 Axes>"
      ]
     },
     "metadata": {
      "needs_background": "light"
     },
     "output_type": "display_data"
    }
   ],
   "source": [
    "sns.heatmap(confusion_matrix(y_test,pred),annot=True,xticklabels=[0,1],yticklabels=[0,1])\n",
    "plt.xlabel(\"Predicted value\")\n",
    "plt.ylabel(\"Actual value\")\n",
    "plt.show()"
   ]
  },
  {
   "cell_type": "code",
   "execution_count": 23,
   "metadata": {
    "id": "Td6qp57PaCPZ"
   },
   "outputs": [
    {
     "data": {
      "image/png": "[encoded data removed]",
      "text/plain": [
       "<Figure size 432x288 with 2 Axes>"
      ]
     },
     "metadata": {
      "needs_background": "light"
     },
     "output_type": "display_data"
    }
   ],
   "source": [
    "dataplot = sns.heatmap(df.corr(), cmap=\"YlGnBu\", annot=True)\n",
    "\n",
    "\n",
    "\n",
    "\n",
    "\n",
    "\n"
   ]
  },
  {
   "cell_type": "code",
   "execution_count": 24,
   "metadata": {},
   "outputs": [
    {
     "name": "stdout",
     "output_type": "stream",
     "text": [
      "[0 1 0 0 0 0 0 0 0 0 0 0 0 0 0 1 1 0 0 0 0 0 0 0 0 0 0 0 0 0 0 0 1 0 0 0 0\n",
      " 0 0 0 0 0 0 0 0 0 0 0 0 1 0 0 0 0 0 0 0 0 0 0 0 0 0 0 0 0 0 0 0 0 1 1 0 0\n",
      " 0 0 0 0 0 0 0 0 0 0 0 0 1 0 0 0 0 0 1 0 0 0 1 0 0 1 1 0 0 1 0 0 0 0 0 0 0\n",
      " 0 0 0 0 0 0 0 0 0 0 1 0 1 0 0 0 1 0 1 0 1 0 0 0 0 1 0 0 0 0 0 0 0 0 0 0 0\n",
      " 0 0 0 0 0 1 0 1 0 0 1 0 0 1 0 0 1 0 0 0 0 0 0 0 0 0 1 1 1 1 0 0 0 0 0 0 0\n",
      " 0 0 0 0 0 0 0 1 0 0 0 0 1 0 1 0 1 0 1 0 0 0 0 0 0 0 0 0 0 0 0 0 0 0 0 1 0\n",
      " 0 1 0 0 0 0 0 0 0 0 0 0 0 0 0 1 0 1 0 1 0 0 1 0 0 0 0 0 0 0 0 0 1 1 0]\n"
     ]
    }
   ],
   "source": [
    "print(pred)"
   ]
  },
  {
   "cell_type": "code",
   "execution_count": 25,
   "metadata": {},
   "outputs": [
    {
     "name": "stdout",
     "output_type": "stream",
     "text": [
      "Requirement already satisfied: gradio in c:\\users\\26jan\\anaconda3\\lib\\site-packages (3.3.1)\n",
      "Requirement already satisfied: h11<0.13,>=0.11 in c:\\users\\26jan\\anaconda3\\lib\\site-packages (from gradio) (0.12.0)\n",
      "Requirement already satisfied: httpx in c:\\users\\26jan\\anaconda3\\lib\\site-packages (from gradio) (0.23.0)\n",
      "Requirement already satisfied: ffmpy in c:\\users\\26jan\\anaconda3\\lib\\site-packages (from gradio) (0.3.0)\n",
      "Requirement already satisfied: orjson in c:\\users\\26jan\\anaconda3\\lib\\site-packages (from gradio) (3.8.0)\n",
      "Requirement already satisfied: uvicorn in c:\\users\\26jan\\anaconda3\\lib\\site-packages (from gradio) (0.18.3)\n",
      "Requirement already satisfied: fastapi in c:\\users\\26jan\\anaconda3\\lib\\site-packages (from gradio) (0.85.0)\n",
      "Requirement already satisfied: pyyaml in c:\\users\\26jan\\anaconda3\\lib\\site-packages (from gradio) (5.4.1)\n",
      "Requirement already satisfied: markdown-it-py[linkify,plugins] in c:\\users\\26jan\\anaconda3\\lib\\site-packages (from gradio) (2.1.0)\n",
      "Requirement already satisfied: fsspec in c:\\users\\26jan\\anaconda3\\lib\\site-packages (from gradio) (0.9.0)\n",
      "Requirement already satisfied: pandas in c:\\users\\26jan\\anaconda3\\lib\\site-packages (from gradio) (1.2.4)\n",
      "Requirement already satisfied: pydub in c:\\users\\26jan\\anaconda3\\lib\\site-packages (from gradio) (0.25.1)\n",
      "Requirement already satisfied: paramiko in c:\\users\\26jan\\anaconda3\\lib\\site-packages (from gradio) (2.7.2)\n",
      "Requirement already satisfied: pydantic in c:\\users\\26jan\\anaconda3\\lib\\site-packages (from gradio) (1.10.2)\n",
      "Requirement already satisfied: requests in c:\\users\\26jan\\anaconda3\\lib\\site-packages (from gradio) (2.22.0)\n",
      "Requirement already satisfied: analytics-python in c:\\users\\26jan\\anaconda3\\lib\\site-packages (from gradio) (1.4.0)\n",
      "Requirement already satisfied: websockets in c:\\users\\26jan\\anaconda3\\lib\\site-packages (from gradio) (10.3)\n",
      "Requirement already satisfied: matplotlib in c:\\users\\26jan\\anaconda3\\lib\\site-packages (from gradio) (3.3.4)\n",
      "Requirement already satisfied: pycryptodome in c:\\users\\26jan\\anaconda3\\lib\\site-packages (from gradio) (3.15.0)\n",
      "Requirement already satisfied: python-multipart in c:\\users\\26jan\\anaconda3\\lib\\site-packages (from gradio) (0.0.5)\n",
      "Requirement already satisfied: numpy in c:\\users\\26jan\\anaconda3\\lib\\site-packages (from gradio) (1.20.1)\n",
      "Requirement already satisfied: aiohttp in c:\\users\\26jan\\anaconda3\\lib\\site-packages (from gradio) (3.8.3)\n",
      "Requirement already satisfied: pillow in c:\\users\\26jan\\anaconda3\\lib\\site-packages (from gradio) (8.2.0)\n",
      "Requirement already satisfied: jinja2 in c:\\users\\26jan\\anaconda3\\lib\\site-packages (from gradio) (2.11.3)\n",
      "Requirement already satisfied: attrs>=17.3.0 in c:\\users\\26jan\\anaconda3\\lib\\site-packages (from aiohttp->gradio) (20.3.0)\n",
      "Requirement already satisfied: charset-normalizer<3.0,>=2.0 in c:\\users\\26jan\\anaconda3\\lib\\site-packages (from aiohttp->gradio) (2.1.1)\n",
      "Requirement already satisfied: multidict<7.0,>=4.5 in c:\\users\\26jan\\anaconda3\\lib\\site-packages (from aiohttp->gradio) (6.0.2)\n",
      "Requirement already satisfied: yarl<2.0,>=1.0 in c:\\users\\26jan\\anaconda3\\lib\\site-packages (from aiohttp->gradio) (1.8.1)\n",
      "Requirement already satisfied: aiosignal>=1.1.2 in c:\\users\\26jan\\anaconda3\\lib\\site-packages (from aiohttp->gradio) (1.2.0)\n",
      "Requirement already satisfied: async-timeout<5.0,>=4.0.0a3 in c:\\users\\26jan\\anaconda3\\lib\\site-packages (from aiohttp->gradio) (4.0.2)\n",
      "Requirement already satisfied: frozenlist>=1.1.1 in c:\\users\\26jan\\anaconda3\\lib\\site-packages (from aiohttp->gradio) (1.3.1)\n",
      "Requirement already satisfied: idna>=2.0 in c:\\users\\26jan\\anaconda3\\lib\\site-packages (from yarl<2.0,>=1.0->aiohttp->gradio) (2.8)\n",
      "Requirement already satisfied: monotonic>=1.5 in c:\\users\\26jan\\anaconda3\\lib\\site-packages (from analytics-python->gradio) (1.6)\n",
      "Requirement already satisfied: python-dateutil>2.1 in c:\\users\\26jan\\anaconda3\\lib\\site-packages (from analytics-python->gradio) (2.8.1)\n",
      "Requirement already satisfied: backoff==1.10.0 in c:\\users\\26jan\\anaconda3\\lib\\site-packages (from analytics-python->gradio) (1.10.0)\n",
      "Requirement already satisfied: six>=1.5 in c:\\users\\26jan\\anaconda3\\lib\\site-packages (from analytics-python->gradio) (1.14.0)\n",
      "Requirement already satisfied: urllib3!=1.25.0,!=1.25.1,<1.26,>=1.21.1 in c:\\users\\26jan\\anaconda3\\lib\\site-packages (from requests->gradio) (1.25.8)\n",
      "Requirement already satisfied: chardet<3.1.0,>=3.0.2 in c:\\users\\26jan\\anaconda3\\lib\\site-packages (from requests->gradio) (3.0.4)\n",
      "Requirement already satisfied: certifi>=2017.4.17 in c:\\users\\26jan\\anaconda3\\lib\\site-packages (from requests->gradio) (2019.11.28)\n",
      "Requirement already satisfied: starlette==0.20.4 in c:\\users\\26jan\\anaconda3\\lib\\site-packages (from fastapi->gradio) (0.20.4)\n",
      "Requirement already satisfied: typing-extensions>=3.10.0 in c:\\users\\26jan\\anaconda3\\lib\\site-packages (from starlette==0.20.4->fastapi->gradio) (4.3.0)\n",
      "Requirement already satisfied: anyio<5,>=3.4.0 in c:\\users\\26jan\\anaconda3\\lib\\site-packages (from starlette==0.20.4->fastapi->gradio) (3.6.1)\n",
      "Requirement already satisfied: sniffio>=1.1 in c:\\users\\26jan\\anaconda3\\lib\\site-packages (from anyio<5,>=3.4.0->starlette==0.20.4->fastapi->gradio) (1.2.0)\n",
      "Requirement already satisfied: httpcore<0.16.0,>=0.15.0 in c:\\users\\26jan\\anaconda3\\lib\\site-packages (from httpx->gradio) (0.15.0)\n",
      "Requirement already satisfied: rfc3986[idna2008]<2,>=1.3 in c:\\users\\26jan\\anaconda3\\lib\\site-packages (from httpx->gradio) (1.5.0)\n",
      "Requirement already satisfied: MarkupSafe>=0.23 in c:\\users\\26jan\\anaconda3\\lib\\site-packages (from jinja2->gradio) (1.1.1)\n",
      "Requirement already satisfied: mdurl~=0.1 in c:\\users\\26jan\\anaconda3\\lib\\site-packages (from markdown-it-py[linkify,plugins]->gradio) (0.1.2)\n",
      "Requirement already satisfied: linkify-it-py~=1.0 in c:\\users\\26jan\\anaconda3\\lib\\site-packages (from markdown-it-py[linkify,plugins]->gradio) (1.0.3)\n",
      "Requirement already satisfied: mdit-py-plugins in c:\\users\\26jan\\anaconda3\\lib\\site-packages (from markdown-it-py[linkify,plugins]->gradio) (0.3.0)\n",
      "Requirement already satisfied: uc-micro-py in c:\\users\\26jan\\anaconda3\\lib\\site-packages (from linkify-it-py~=1.0->markdown-it-py[linkify,plugins]->gradio) (1.0.1)\n",
      "Requirement already satisfied: pyparsing!=2.0.4,!=2.1.2,!=2.1.6,>=2.0.3 in c:\\users\\26jan\\anaconda3\\lib\\site-packages (from matplotlib->gradio) (2.4.7)\n",
      "Requirement already satisfied: kiwisolver>=1.0.1 in c:\\users\\26jan\\anaconda3\\lib\\site-packages (from matplotlib->gradio) (1.3.1)\n",
      "Requirement already satisfied: cycler>=0.10 in c:\\users\\26jan\\anaconda3\\lib\\site-packages (from matplotlib->gradio) (0.10.0)\n",
      "Requirement already satisfied: pytz>=2017.3 in c:\\users\\26jan\\anaconda3\\lib\\site-packages (from pandas->gradio) (2020.5)\n",
      "Requirement already satisfied: cryptography>=2.5 in c:\\users\\26jan\\anaconda3\\lib\\site-packages (from paramiko->gradio) (3.4.7)\n",
      "Requirement already satisfied: pynacl>=1.0.1 in c:\\users\\26jan\\anaconda3\\lib\\site-packages (from paramiko->gradio) (1.4.0)\n",
      "Requirement already satisfied: bcrypt>=3.1.3 in c:\\users\\26jan\\anaconda3\\lib\\site-packages (from paramiko->gradio) (3.2.0)\n",
      "Requirement already satisfied: cffi>=1.1 in c:\\users\\26jan\\anaconda3\\lib\\site-packages (from bcrypt>=3.1.3->paramiko->gradio) (1.14.0)\n",
      "Requirement already satisfied: pycparser in c:\\users\\26jan\\anaconda3\\lib\\site-packages (from cffi>=1.1->bcrypt>=3.1.3->paramiko->gradio) (2.20)\n",
      "Requirement already satisfied: click>=7.0 in c:\\users\\26jan\\anaconda3\\lib\\site-packages (from uvicorn->gradio) (7.1.2)\n"
     ]
    }
   ],
   "source": [
    "!pip install gradio"
   ]
  },
  {
   "cell_type": "code",
   "execution_count": 26,
   "metadata": {},
   "outputs": [],
   "source": [
    "def classify(num):\n",
    "    if num==0:\n",
    "        return 'No rain tomorrow'\n",
    "    else:\n",
    "        return 'Rain tomorrow'"
   ]
  },
  {
   "cell_type": "code",
   "execution_count": 27,
   "metadata": {
    "scrolled": true
   },
   "outputs": [],
   "source": [
    "import gradio as gr\n",
    "import numpy as np\n",
    "\n",
    "def predict_weather(v1,v2,v3,v4,v5,v6,v7,v8,v9,v10,v11,v12,v13,v14):\n",
    "    input_array=np.array([[v1,v2,v3,v4,v5,v6,v7,v8,v9,v10,v11,v12,v13,v14]])\n",
    "    prediction=logmodel.predict(input_array)\n",
    "    output=classify(prediction[0])\n",
    "    if output=='No rain tomorrow':\n",
    "      return [(0,output)]\n",
    "    else:\n",
    "      return [(1,output)]"
   ]
  },
  {
   "cell_type": "code",
   "execution_count": null,
   "metadata": {},
   "outputs": [
    {
     "name": "stderr",
     "output_type": "stream",
     "text": [
      "C:\\Users\\26jan\\anaconda3\\lib\\site-packages\\gradio\\inputs.py:88: UserWarning: Usage of gradio.inputs is deprecated, and will not be supported in the future, please import your component from gradio.components\n",
      "  warnings.warn(\n",
      "C:\\Users\\26jan\\anaconda3\\lib\\site-packages\\gradio\\deprecation.py:40: UserWarning: `optional` parameter is deprecated, and it has no effect\n",
      "  warnings.warn(value)\n",
      "C:\\Users\\26jan\\anaconda3\\lib\\site-packages\\gradio\\outputs.py:239: UserWarning: Usage of gradio.outputs is deprecated, and will not be supported in the future, please import your components from gradio.components\n",
      "  warnings.warn(\n",
      "C:\\Users\\26jan\\anaconda3\\lib\\site-packages\\gradio\\components.py:2942: UserWarning: The 'color_map' parameter has been moved from the constructor to `HighlightedText.style()` \n",
      "  warnings.warn(\n",
      "C:\\Users\\26jan\\anaconda3\\lib\\site-packages\\gradio\\blocks.py:152: UserWarning: api_name predict already exists, using predict_1\n",
      "  warnings.warn(\n",
      "C:\\Users\\26jan\\anaconda3\\lib\\site-packages\\gradio\\blocks.py:152: UserWarning: api_name predict already exists, using predict_2\n",
      "  warnings.warn(\n",
      "C:\\Users\\26jan\\anaconda3\\lib\\site-packages\\gradio\\blocks.py:152: UserWarning: api_name predict already exists, using predict_3\n",
      "  warnings.warn(\n",
      "C:\\Users\\26jan\\anaconda3\\lib\\site-packages\\gradio\\blocks.py:152: UserWarning: api_name predict already exists, using predict_4\n",
      "  warnings.warn(\n",
      "C:\\Users\\26jan\\anaconda3\\lib\\site-packages\\gradio\\blocks.py:152: UserWarning: api_name predict already exists, using predict_5\n",
      "  warnings.warn(\n",
      "C:\\Users\\26jan\\anaconda3\\lib\\site-packages\\gradio\\blocks.py:152: UserWarning: api_name predict already exists, using predict_6\n",
      "  warnings.warn(\n",
      "C:\\Users\\26jan\\anaconda3\\lib\\site-packages\\gradio\\blocks.py:152: UserWarning: api_name predict already exists, using predict_7\n",
      "  warnings.warn(\n",
      "C:\\Users\\26jan\\anaconda3\\lib\\site-packages\\gradio\\blocks.py:152: UserWarning: api_name predict already exists, using predict_8\n",
      "  warnings.warn(\n",
      "C:\\Users\\26jan\\anaconda3\\lib\\site-packages\\gradio\\blocks.py:152: UserWarning: api_name predict already exists, using predict_9\n",
      "  warnings.warn(\n",
      "C:\\Users\\26jan\\anaconda3\\lib\\site-packages\\gradio\\blocks.py:152: UserWarning: api_name predict already exists, using predict_10\n",
      "  warnings.warn(\n",
      "C:\\Users\\26jan\\anaconda3\\lib\\site-packages\\gradio\\blocks.py:152: UserWarning: api_name predict already exists, using predict_11\n",
      "  warnings.warn(\n",
      "C:\\Users\\26jan\\anaconda3\\lib\\site-packages\\gradio\\blocks.py:152: UserWarning: api_name predict already exists, using predict_12\n",
      "  warnings.warn(\n",
      "C:\\Users\\26jan\\anaconda3\\lib\\site-packages\\gradio\\blocks.py:152: UserWarning: api_name predict already exists, using predict_13\n",
      "  warnings.warn(\n"
     ]
    },
    {
     "name": "stdout",
     "output_type": "stream",
     "text": [
      "Running on local URL:  http://127.0.0.1:7860\n",
      "Running on public URL: https://13956.gradio.app\n",
      "\n",
      "This share link expires in 72 hours. For free permanent hosting, check out Spaces: https://huggingface.co/spaces\n"
     ]
    },
    {
     "data": {
      "text/html": [
       "<div><iframe src=\"https://13956.gradio.app\" width=\"900\" height=\"500\" allow=\"autoplay; camera; microphone;\" frameborder=\"0\" allowfullscreen></iframe></div>"
      ],
      "text/plain": [
       "<IPython.core.display.HTML object>"
      ]
     },
     "metadata": {},
     "output_type": "display_data"
    }
   ],
   "source": [
    "v1 = gr.inputs.Slider(minimum=0, maximum=24, default=2, label=\"Minimum Temperature\")\n",
    "v2 = gr.inputs.Slider(minimum=0, maximum=40, default=2, label=\"Max Temperature\")\n",
    "v3 = gr.inputs.Slider(minimum=0, maximum=40, default=2, label=\"Rainfall\")\n",
    "v4 = gr.inputs.Slider(minimum=0, maximum=50, default=2, label=\"Wind speed at 3pm\")\n",
    "v5 = gr.inputs.Slider(minimum=0, maximum=100, default=2, label=\"Humidity at 9am\")\n",
    "v6 = gr.inputs.Slider(minimum=0, maximum=100, default=2, label=\"Humidity at 3pm\")\n",
    "v7 = gr.inputs.Slider(minimum=0, maximum=1035, default=2, label=\"Pressure at 9am\")\n",
    "v8 = gr.inputs.Slider(minimum=0, maximum=1035, default=2, label=\"Pressure at 3pm\")\n",
    "v9 = gr.inputs.Slider(minimum=0, maximum=10, default=2, label=\"Cloud 9am\")\n",
    "v10 = gr.inputs.Slider(minimum=0, maximum=10, default=2, label=\"Cloud 3pm\")\n",
    "v11 = gr.inputs.Slider(minimum=0, maximum=36, default=2, label=\"Temp 9am\")\n",
    "v12 = gr.inputs.Slider(minimum=0, maximum=36, default=2, label=\"Temp 3pm\")\n",
    "v13 = gr.inputs.Slider(minimum=0, maximum=1, default=2, label=\"Rain today\")\n",
    "v14 = gr.inputs.Slider(minimum=0, maximum=40, default=2, label=\"Risk MM\")\n",
    "\n",
    "op=gr.outputs.HighlightedText(color_map={ \"No rain tomorrow\": \"lightgreen\",\n",
    "        \"Rain tomorrow\": \"pink\",})\n",
    "\n",
    "gr.Interface(predict_weather, inputs=[v1,v2,v3,v4,v5,v6,v7,v8,v9,v10,v11,v12,v13,v14], outputs=op,live=True).launch(debug=True,share=True)"
   ]
  },
  {
   "cell_type": "code",
   "execution_count": null,
   "metadata": {},
   "outputs": [],
   "source": []
  },
  {
   "cell_type": "code",
   "execution_count": null,
   "metadata": {},
   "outputs": [],
   "source": []
  }
 ],
 "metadata": {
  "colab": {
   "collapsed_sections": [],
   "provenance": []
  },
  "kernelspec": {
   "display_name": "Python [conda env:root] *",
   "language": "python",
   "name": "conda-root-py"
  },
  "language_info": {
   "codemirror_mode": {
    "name": "ipython",
    "version": 3
   },
   "file_extension": ".py",
   "mimetype": "text/x-python",
   "name": "python",
   "nbconvert_exporter": "python",
   "pygments_lexer": "ipython3",
   "version": "3.8.8"
  }
 },
 "nbformat": 4,
 "nbformat_minor": 1
}
